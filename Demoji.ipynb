{
  "nbformat": 4,
  "nbformat_minor": 0,
  "metadata": {
    "colab": {
      "provenance": []
    },
    "kernelspec": {
      "name": "python3",
      "display_name": "Python 3"
    },
    "language_info": {
      "name": "python"
    }
  },
  "cells": [
    {
      "cell_type": "code",
      "execution_count": 1,
      "metadata": {
        "colab": {
          "base_uri": "https://localhost:8080/"
        },
        "id": "YWGVeWNaEzcL",
        "outputId": "7534ae4d-8b4e-4ef0-9f1e-0d820787b65f"
      },
      "outputs": [
        {
          "output_type": "stream",
          "name": "stdout",
          "text": [
            "Collecting demoji\n",
            "  Downloading demoji-1.1.0-py3-none-any.whl.metadata (9.2 kB)\n",
            "Downloading demoji-1.1.0-py3-none-any.whl (42 kB)\n",
            "\u001b[?25l   \u001b[90m━━━━━━━━━━━━━━━━━━━━━━━━━━━━━━━━━━━━━━━━\u001b[0m \u001b[32m0.0/42.9 kB\u001b[0m \u001b[31m?\u001b[0m eta \u001b[36m-:--:--\u001b[0m\r\u001b[2K   \u001b[90m━━━━━━━━━━━━━━━━━━━━━━━━━━━━━━━━━━━━━━━━\u001b[0m \u001b[32m42.9/42.9 kB\u001b[0m \u001b[31m1.3 MB/s\u001b[0m eta \u001b[36m0:00:00\u001b[0m\n",
            "\u001b[?25hInstalling collected packages: demoji\n",
            "Successfully installed demoji-1.1.0\n"
          ]
        }
      ],
      "source": [
        "pip install demoji"
      ]
    },
    {
      "cell_type": "code",
      "source": [
        "import demoji\n",
        "\n",
        "demoji.download_codes()\n"
      ],
      "metadata": {
        "colab": {
          "base_uri": "https://localhost:8080/"
        },
        "id": "jGLjbJJjE_6H",
        "outputId": "63dd8389-82b3-4571-e759-b9ee1a6148b7"
      },
      "execution_count": 2,
      "outputs": [
        {
          "output_type": "stream",
          "name": "stderr",
          "text": [
            "<ipython-input-2-610bed6913c2>:3: FutureWarning: The demoji.download_codes attribute is deprecated and will be removed from demoji in a future version. It is an unused attribute as emoji codes are now distributed directly with the demoji package.\n",
            "  demoji.download_codes()\n"
          ]
        }
      ]
    },
    {
      "cell_type": "code",
      "source": [
        "#Example-1\n",
        "text = \"\"\" 😃😄😁😆 \"\"\"\n",
        "demoji.findall(text)"
      ],
      "metadata": {
        "colab": {
          "base_uri": "https://localhost:8080/"
        },
        "id": "DBg5ed6yFE0H",
        "outputId": "908c5c60-208d-4e48-8f46-05cf4dd8ffc0"
      },
      "execution_count": 3,
      "outputs": [
        {
          "output_type": "execute_result",
          "data": {
            "text/plain": [
              "{'😆': 'grinning squinting face',\n",
              " '😁': 'beaming face with smiling eyes',\n",
              " '😃': 'grinning face with big eyes',\n",
              " '😄': 'grinning face with smiling eyes'}"
            ]
          },
          "metadata": {},
          "execution_count": 3
        }
      ]
    },
    {
      "cell_type": "code",
      "source": [
        "#Example-2\n",
        "text1 = \"\"\"\n",
        "💂\n",
        "💂‍♂️\n",
        "🕵️‍♀️\n",
        "🕵️\n",
        "🕵️‍♂️\n",
        "👩‍⚕️\n",
        "🧑‍⚕️\n",
        "👨‍⚕️\n",
        "👩‍🌾\n",
        "🧑‍🌾\n",
        "👨‍🌾\n",
        "👩‍🍳\n",
        "🧑‍🍳\n",
        "👨‍🍳\n",
        "👩‍🎓\n",
        "🧑‍🎓\n",
        "👨‍🎓\n",
        "👩‍🎤\n",
        "🧑‍🎤\"\"\"\n",
        "demoji.findall(text1) # here findall() uses for to converts the emoji to text even if there is a sentence."
      ],
      "metadata": {
        "colab": {
          "base_uri": "https://localhost:8080/"
        },
        "id": "te4n00rWF4nm",
        "outputId": "8911287f-4461-4788-bf2a-27217a063c2a"
      },
      "execution_count": 6,
      "outputs": [
        {
          "output_type": "execute_result",
          "data": {
            "text/plain": [
              "{'💂\\u200d♂️': 'man guard',\n",
              " '🧑\\u200d🍳': 'cook',\n",
              " '👩\\u200d🎓': 'woman student',\n",
              " '🕵️\\u200d♀️': 'woman detective',\n",
              " '🕵️\\u200d♂️': 'man detective',\n",
              " '🧑\\u200d🎓': 'student',\n",
              " '👩\\u200d⚕️': 'woman health worker',\n",
              " '💂': 'guard',\n",
              " '🧑\\u200d🎤': 'singer',\n",
              " '👩\\u200d🎤': 'woman singer',\n",
              " '👨\\u200d⚕️': 'man health worker',\n",
              " '👩\\u200d🍳': 'woman cook',\n",
              " '👩\\u200d🌾': 'woman farmer',\n",
              " '🧑\\u200d⚕️': 'health worker',\n",
              " '🧑\\u200d🌾': 'farmer',\n",
              " '🕵️': 'detective',\n",
              " '👨\\u200d🌾': 'man farmer',\n",
              " '👨\\u200d🎓': 'man student',\n",
              " '👨\\u200d🍳': 'man cook'}"
            ]
          },
          "metadata": {},
          "execution_count": 6
        }
      ]
    },
    {
      "cell_type": "code",
      "source": [
        "#Example-3\n",
        "text2 = \"\"\" Today i am very happy because i was played the 🏐\"\"\"\n",
        "demoji.replace_with_desc(text2,sep=\"@\") # Here replace_with_desc() uses for to convert emoji to text and that text is print with full sentence."
      ],
      "metadata": {
        "colab": {
          "base_uri": "https://localhost:8080/",
          "height": 35
        },
        "id": "DmkWJdmqGZ94",
        "outputId": "3444699a-bc8a-4a26-e235-f311e6081b99"
      },
      "execution_count": 10,
      "outputs": [
        {
          "output_type": "execute_result",
          "data": {
            "text/plain": [
              "' Today i am very happy because i was played the @volleyball@'"
            ],
            "application/vnd.google.colaboratory.intrinsic+json": {
              "type": "string"
            }
          },
          "metadata": {},
          "execution_count": 10
        }
      ]
    },
    {
      "cell_type": "code",
      "source": [
        "text3 = \"\"\" If you want something‼️, work for it....!☮️\"\"\"\n",
        "demoji.findall(text3) # The sentence doesn't have importance in demoji.findall()"
      ],
      "metadata": {
        "colab": {
          "base_uri": "https://localhost:8080/"
        },
        "id": "1frnizy1GyMs",
        "outputId": "d924f4fd-0020-4217-f1ae-b07e09b4a14c"
      },
      "execution_count": 15,
      "outputs": [
        {
          "output_type": "execute_result",
          "data": {
            "text/plain": [
              "{'‼️': 'double exclamation mark', '☮️': 'peace symbol'}"
            ]
          },
          "metadata": {},
          "execution_count": 15
        }
      ]
    },
    {
      "cell_type": "code",
      "source": [],
      "metadata": {
        "id": "ynEfKAYSI8XE"
      },
      "execution_count": null,
      "outputs": []
    }
  ]
}